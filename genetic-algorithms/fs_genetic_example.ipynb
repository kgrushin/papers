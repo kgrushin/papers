{
 "cells": [
  {
   "cell_type": "markdown",
   "id": "d89c3a6c-bae3-4dd6-a240-007e7968091f",
   "metadata": {},
   "source": [
    "### Пример реализации генетического алгоритма для отбора факторов"
   ]
  },
  {
   "cell_type": "markdown",
   "id": "641664a6-53f5-4f72-a2b0-ff7acee9d66e",
   "metadata": {},
   "source": [
    "#### Импорт библиотек"
   ]
  },
  {
   "cell_type": "code",
   "execution_count": 1,
   "id": "26982dda-f774-430f-bf74-0475c71f915e",
   "metadata": {
    "tags": []
   },
   "outputs": [],
   "source": [
    "import random\n",
    "from abc import ABC, abstractmethod\n",
    "from copy import deepcopy\n",
    "from dataclasses import dataclass, field\n",
    "from itertools import compress, count\n",
    "from typing import Callable, List, Literal, Optional, TypeAlias, Tuple\n",
    "\n",
    "import pandas as pd\n",
    "from catboost import CatBoostClassifier\n",
    "from sklearn.metrics import roc_auc_score"
   ]
  },
  {
   "cell_type": "markdown",
   "id": "8a7199e6-a9e0-41c3-9610-5f1602fe49f5",
   "metadata": {},
   "source": [
    "#### Особь и интерфейс модели"
   ]
  },
  {
   "cell_type": "code",
   "execution_count": 2,
   "id": "b95778ce-362f-4f45-b091-5beaffd0363b",
   "metadata": {
    "tags": []
   },
   "outputs": [],
   "source": [
    "class ModelGeneric(ABC):\n",
    "    @abstractmethod\n",
    "    def fit(self):\n",
    "        pass\n",
    "\n",
    "    @abstractmethod\n",
    "    def predict_proba(self):\n",
    "        pass\n",
    "\n",
    "\n",
    "@dataclass\n",
    "class Individual:\n",
    "    genotype: List[bool]\n",
    "    fitness_value: Optional[float] = None\n",
    "    rank_value: Optional[int] = None\n",
    "    selection_proba: Optional[float] = None\n",
    "    _id: int = field(default_factory=count().__next__)"
   ]
  },
  {
   "cell_type": "markdown",
   "id": "03bb8871-7a88-47a2-b1ea-64bf41e4f269",
   "metadata": {},
   "source": [
    "#### Прототип реализации селектора факторов"
   ]
  },
  {
   "cell_type": "code",
   "execution_count": 3,
   "id": "087313d2-6211-4c96-a792-ed5f4db36fe9",
   "metadata": {
    "tags": []
   },
   "outputs": [],
   "source": [
    "SelectionStatistic: TypeAlias = pd.DataFrame"
   ]
  },
  {
   "cell_type": "code",
   "execution_count": 4,
   "id": "a7afb51a-b189-4df8-a343-2a41a301ad5b",
   "metadata": {
    "tags": []
   },
   "outputs": [],
   "source": [
    "class GeneticSelector:\n",
    "    def __init__(\n",
    "        self,\n",
    "        n_generations: int,\n",
    "        n_individuals: int,\n",
    "        selection_share: float,\n",
    "        elitist_share: float,\n",
    "        mutatuion_rate: float,\n",
    "        random_seed: int,\n",
    "        model: ModelGeneric,\n",
    "        fitness: Literal[\"GINI\", \"R_2\", \"MSE\", \"CUSTOM\"] = \"GINI\",\n",
    "        fitness_custom: Callable = None,\n",
    "    ) -> None:\n",
    "        pass\n",
    "\n",
    "    def select(\n",
    "        self,\n",
    "        X_train,\n",
    "        X_test,\n",
    "        y_train,\n",
    "        y_test,\n",
    "        features_to_select: List[str],\n",
    "        cat_features: List[str],\n",
    "        verbose: int,\n",
    "    ) -> SelectionStatistic:\n",
    "        pass\n",
    "\n",
    "    @property\n",
    "    def selected_features(self):\n",
    "        return self._selected_feature"
   ]
  },
  {
   "cell_type": "markdown",
   "id": "3ed59f54-1d30-4ce2-aeb3-0962adaba308",
   "metadata": {},
   "source": [
    "#### Инициализация популяции"
   ]
  },
  {
   "cell_type": "code",
   "execution_count": 5,
   "id": "282eb7d3-9cc3-4046-adaa-1e31ed7d2f34",
   "metadata": {
    "tags": []
   },
   "outputs": [],
   "source": [
    "def get_set_of_random_individuals(\n",
    "    n_individuals: int, genotype_length: int, random_seed: int\n",
    ") -> List[Individual]:\n",
    "    \"Get set of individuals with random genotype\"\n",
    "\n",
    "    individuals = []\n",
    "    for i in range(n_individuals):\n",
    "        random.seed(random_seed + i)\n",
    "        genotype = random.choices([False, True], k=genotype_length)\n",
    "        individuals.append(Individual(genotype=genotype))\n",
    "\n",
    "    return individuals"
   ]
  },
  {
   "cell_type": "markdown",
   "id": "74db430b-6014-4bfc-bb71-2c9601d0690c",
   "metadata": {},
   "source": [
    "#### Используемая модель для отбора факторов"
   ]
  },
  {
   "cell_type": "code",
   "execution_count": 6,
   "id": "e315107c-e2f4-4a15-8738-da1e74356743",
   "metadata": {
    "tags": []
   },
   "outputs": [],
   "source": [
    "RANDOM_SEED = 42\n",
    "model = CatBoostClassifier(\n",
    "    iterations=500,\n",
    "    learning_rate=0.01,\n",
    "    depth=7,\n",
    "    random_seed=RANDOM_SEED,\n",
    "    loss_function=\"Logloss\",\n",
    "    task_type=\"GPU\",\n",
    "    nan_mode=\"Min\",\n",
    "    od_type=\"Iter\",\n",
    "    od_wait=100,\n",
    ")"
   ]
  },
  {
   "cell_type": "markdown",
   "id": "63505719-ea29-4362-9b42-b54e09df4735",
   "metadata": {},
   "source": [
    "#### Fitness метрика для отбора"
   ]
  },
  {
   "cell_type": "code",
   "execution_count": 7,
   "id": "bba42e2d-ced0-4a19-8ce3-e83349b7e767",
   "metadata": {
    "tags": []
   },
   "outputs": [],
   "source": [
    "def gini(y_true, y_pred):\n",
    "    return 2 * roc_auc_score(y_true, y_pred) - 1"
   ]
  },
  {
   "cell_type": "code",
   "execution_count": 8,
   "id": "188eb14c-ff07-46d4-be75-f7c233658677",
   "metadata": {
    "tags": []
   },
   "outputs": [],
   "source": [
    "FitnessStatistic: TypeAlias = pd.DataFrame"
   ]
  },
  {
   "cell_type": "code",
   "execution_count": 9,
   "id": "a93405ab-4d98-4c12-8259-cc321ffb2742",
   "metadata": {
    "tags": []
   },
   "outputs": [],
   "source": [
    "def get_probability_by_ranks(n_individuals: int, current_rank: int) -> float:\n",
    "    \"Transfer rank to probability\"\n",
    "    return (n_individuals - (current_rank - 1)) / sum(range(n_individuals + 1))"
   ]
  },
  {
   "cell_type": "code",
   "execution_count": 10,
   "id": "f3786786-2c2d-42d7-a5e6-4ef476d6c306",
   "metadata": {
    "tags": []
   },
   "outputs": [],
   "source": [
    "def calculate_fitness_info(\n",
    "    individuals: List[Individual],\n",
    "    features_lst: List[str],\n",
    "    cat_features_all: List[str],\n",
    "    model: ModelGeneric,\n",
    "    X_train: pd.DataFrame,\n",
    "    y_train: pd.DataFrame,\n",
    "    X_test: pd.DataFrame,\n",
    "    y_test: pd.DataFrame,\n",
    "    verbose: int,\n",
    ") -> FitnessStatistic:\n",
    "    \"Calculate fitness information for all individuals\"\n",
    "\n",
    "    fitness = []\n",
    "    for n, inidivual in enumerate(individuals):\n",
    "        if (n + 1) % verbose == 0:\n",
    "            print(f\"{n+1} individual calculation\", \"--- \" * 3, dt.datetime.now())\n",
    "\n",
    "        assert len(features_lst) == len(\n",
    "            inidivual.genotype\n",
    "        ), \"Length of genotype and features_lst should be equals\"\n",
    "\n",
    "        features_to_fit = list(compress(features_lst, inidivual.genotype))\n",
    "        cat_features_to_fit = list(set(features_to_fit) & set(cat_features_all))\n",
    "\n",
    "        model.fit(\n",
    "            X=X_train[features_to_fit],\n",
    "            y=y_train,\n",
    "            cat_features=cat_features_to_fit,\n",
    "            eval_set=(X_test[features_to_fit], y_test),\n",
    "            verbose=False,\n",
    "        )\n",
    "\n",
    "        y_pred_train = model.predict_proba(X_train[features_to_fit])[:, 1]\n",
    "        y_pred_test = model.predict_proba(X_test[features_to_fit])[:, 1]\n",
    "\n",
    "        gini_train = gini(y_train, y_pred_train)\n",
    "        gini_test = gini(y_test, y_pred_test)\n",
    "\n",
    "        fitness.append(\n",
    "            {\n",
    "                \"n\": n,\n",
    "                \"gini_train\": gini_train,\n",
    "                \"gini_test\": gini_test,\n",
    "                \"_id\": inidivual._id,\n",
    "            }\n",
    "        )\n",
    "\n",
    "    # Ranking\n",
    "    fitness = pd.DataFrame(fitness)\n",
    "    fitness = fitness.sort_values(by=[\"gini_test\"], ascending=False)\n",
    "    fitness[\"rank\"] = list(range(1, len(fitness) + 1))\n",
    "    fitness[\"selection_proba\"] = fitness[\"rank\"].apply(\n",
    "        lambda x: get_probability_by_ranks(len(fitness), x)\n",
    "    )\n",
    "\n",
    "    # Save information\n",
    "    for n, inidivual in enumerate(individuals):\n",
    "        inidivual.fitness_value = fitness.loc[fitness[\"n\"] == n][\"gini_test\"].item()\n",
    "        inidivual.rank_value = fitness.loc[fitness[\"n\"] == n][\"rank\"].item()\n",
    "        inidivual.selection_proba = fitness.loc[fitness[\"n\"] == n][\n",
    "            \"selection_proba\"\n",
    "        ].item()\n",
    "\n",
    "    return fitness"
   ]
  },
  {
   "cell_type": "markdown",
   "id": "29c5fc7a-a3a1-43d7-bfe0-a0de079d58db",
   "metadata": {},
   "source": [
    "#### Отбор особей (моделей с заданным набором факторов)"
   ]
  },
  {
   "cell_type": "code",
   "execution_count": 11,
   "id": "cc1a2df7-9dc0-4ffa-a86e-ae9e4035429d",
   "metadata": {
    "tags": []
   },
   "outputs": [],
   "source": [
    "def select_individuals(\n",
    "    individuals: List[Individual],\n",
    "    random_seed: int,\n",
    "    fitness: FitnessStatistic,\n",
    "    share_result: float = 0.5,\n",
    "    share_elitist: float = 0.25,\n",
    ") -> List[Individual]:\n",
    "    \"Select the best individuals in the population\"\n",
    "\n",
    "    share_elitist = round(share_elitist, 2)\n",
    "    share_result = round(share_result, 2)\n",
    "\n",
    "    if share_elitist >= share_result:\n",
    "        raise ValueError(\n",
    "            \"All expected individuals won't be deleted by using probability.\"\n",
    "        )\n",
    "\n",
    "    if ((share_elitist > 1) & (share_elitist < 0)) | (\n",
    "        (share_result > 1) & (share_result < 0)\n",
    "    ):\n",
    "        raise ValueError(\"Probability should be between 0 and 1.\")\n",
    "\n",
    "    if share_result == 1:\n",
    "        raise ValueError(\n",
    "            \"Result population should be less than initialized number of individuals.\"\n",
    "        )\n",
    "\n",
    "    # Select share_elitist by using random\n",
    "    idx_all = range(len(individuals))\n",
    "    random.seed(random_seed)\n",
    "    k_to_select_elitist = int(round(len(individuals) * share_elitist))\n",
    "    idx_elitist = random.sample(idx_all, k=k_to_select_elitist)\n",
    "\n",
    "    # Select share_result by using random and probabilities calculated before\n",
    "    idx_to_selection = set(idx_all) - set(idx_elitist)\n",
    "    weights = fitness.loc[fitness[\"n\"].isin(idx_to_selection)][\n",
    "        \"selection_proba\"\n",
    "    ].to_list()\n",
    "\n",
    "    # Weight our weights\n",
    "    weights = [weight / sum(weights) for weight in weights]\n",
    "    np.random.seed(random_seed)\n",
    "    k_to_select = int(round(len(individuals) * (share_result - share_elitist)))\n",
    "    idx_selected = np.random.choice(\n",
    "        list(idx_to_selection), size=k_to_select, replace=False, p=weights\n",
    "    )\n",
    "\n",
    "    selected_individuals = [\n",
    "        ind\n",
    "        for n, ind in enumerate(individuals)\n",
    "        if (n in idx_elitist) or (n in idx_selected)\n",
    "    ]\n",
    "\n",
    "    if len(selected_individuals) == 0:\n",
    "        raise ValueError(\n",
    "            \"Were selected 0 individuals. Try to increase number of initial individuals.\"\n",
    "        )\n",
    "\n",
    "    return selected_individuals"
   ]
  },
  {
   "cell_type": "markdown",
   "id": "254bbb42-7e2b-4769-bbc2-121ab572c819",
   "metadata": {},
   "source": [
    "#### Создание потомков"
   ]
  },
  {
   "cell_type": "code",
   "execution_count": 12,
   "id": "a88b525d-1bbe-4e49-8de1-383126747255",
   "metadata": {
    "tags": []
   },
   "outputs": [],
   "source": [
    "def get_offspring_from_pair(\n",
    "    ind1: Individual, ind2: Individual, random_seed: int\n",
    ") -> Tuple[Individual, Individual]:\n",
    "    \"Get offspring from pair of individuals\"\n",
    "    child_1_gen = []\n",
    "    child_2_gen = []\n",
    "    for n, gen_1 in enumerate(ind1.genotype):\n",
    "        gen_2 = ind2.genotype[n]\n",
    "\n",
    "        np.random.seed(random_seed + n)\n",
    "        children_gen = np.random.choice([gen_1, gen_2], size=2)\n",
    "\n",
    "        child_1_gen.append(children_gen[0])\n",
    "        child_2_gen.append(children_gen[1])\n",
    "\n",
    "    return (\n",
    "        Individual(gen=child_1_gen),\n",
    "        Individual(gen=child_2_gen),\n",
    "    )"
   ]
  },
  {
   "cell_type": "markdown",
   "id": "61076d34-ac84-4e86-bf8c-1fd2afd114b0",
   "metadata": {},
   "source": [
    "#### Мутации"
   ]
  },
  {
   "cell_type": "code",
   "execution_count": 13,
   "id": "6b70cebc-1465-4f20-8914-3cbc10f81851",
   "metadata": {
    "tags": []
   },
   "outputs": [],
   "source": [
    "def mutate_offspring(\n",
    "    offsprings: List[Individual],\n",
    "    random_seed: int,\n",
    "    mutation_rate: Optional[float] = None,\n",
    ") -> List[Individual]:\n",
    "    \"Mutate offspring genotype\"\n",
    "\n",
    "    # Default MR is 1/len(genotype)\n",
    "    if mutation_rate is None:\n",
    "        mutation_rate = 1 / len(offsprings[0].genotype)\n",
    "\n",
    "    individuals_new = deepcopy(list(offsprings))\n",
    "    for n, individual in enumerate(offsprings):\n",
    "        for i, gen in enumerate(individual.genotype):\n",
    "            random.seed(random_seed + n + i)\n",
    "            proba = random.random()\n",
    "\n",
    "            if mutation_rate > proba:\n",
    "                individuals_new[n].genotype[i] = not individuals_new[n].genotype[i]\n",
    "\n",
    "    assert len(individuals_new) == len(offsprings)\n",
    "\n",
    "    return individuals_new"
   ]
  },
  {
   "cell_type": "markdown",
   "id": "c25b9488-309f-4b98-ab30-1b123fdab1e2",
   "metadata": {},
   "source": [
    "#### Скрещивание"
   ]
  },
  {
   "cell_type": "code",
   "execution_count": 14,
   "id": "6a270b3f-291e-4f23-a725-9f40eac7db2a",
   "metadata": {
    "tags": []
   },
   "outputs": [],
   "source": [
    "def crossover_individuals(\n",
    "    individuals: List[Individual],\n",
    "    n_individuals_initial: int,\n",
    "    random_seed: int,\n",
    ") -> List[Individual]:\n",
    "    \"Cross and mutate individuals\"\n",
    "\n",
    "    individuals_new = deepcopy(list(individuals))\n",
    "    cycle = 0\n",
    "\n",
    "    # Taking a pair and crossover them until we get initial amount of individuals\n",
    "    while len(individuals_new) < n_individuals_initial:\n",
    "        random.seed(random_seed + cycle)\n",
    "        idx1 = random.choice(range(len(individuals)))\n",
    "        random.seed(random_seed + cycle * 1_000_000)\n",
    "        idx2 = random.choice(range(len(individuals)))\n",
    "\n",
    "        ind1 = individuals[idx1]\n",
    "        ind2 = individuals[idx2]\n",
    "\n",
    "        if len(ind1.genotype) != len(ind2.genotype):\n",
    "            raise ValueError(\"Length of genotypes should be equals\")\n",
    "\n",
    "        # Cross their genotypes to produce 2 pair of individuals\n",
    "        individuals_generated = get_offspring_from_pair(\n",
    "            ind1, ind2, random_seed=random_seed + cycle\n",
    "        )\n",
    "\n",
    "        individuals_generated_mutated = mutate_offspring(\n",
    "            individuals_generated, random_seed=random_seed + cycle\n",
    "        )\n",
    "\n",
    "        individuals_new += individuals_generated_mutated\n",
    "        cycle += 1\n",
    "\n",
    "    # Make generated generation the same volume as initial (if we produce more children than we need)\n",
    "    if len(individuals_new) > n_individuals_initial:\n",
    "        np.random.seed(random_seed)\n",
    "        individuals_new = list(\n",
    "            np.random.choice(individuals_new, size=n_individuals_initial, replace=False)\n",
    "        )\n",
    "\n",
    "    return individuals_new"
   ]
  }
 ],
 "metadata": {
  "kernelspec": {
   "display_name": "Python 3 (ipykernel)",
   "language": "python",
   "name": "python3"
  },
  "language_info": {
   "codemirror_mode": {
    "name": "ipython",
    "version": 3
   },
   "file_extension": ".py",
   "mimetype": "text/x-python",
   "name": "python",
   "nbconvert_exporter": "python",
   "pygments_lexer": "ipython3",
   "version": "3.10.6"
  }
 },
 "nbformat": 4,
 "nbformat_minor": 5
}
